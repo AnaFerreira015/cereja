{
  "nbformat": 4,
  "nbformat_minor": 0,
  "metadata": {
    "colab": {
      "name": "cereja_example.ipynb",
      "provenance": [],
      "collapsed_sections": [],
      "toc_visible": true,
      "include_colab_link": true
    },
    "kernelspec": {
      "name": "python3",
      "display_name": "Python 3"
    }
  },
  "cells": [
    {
      "cell_type": "markdown",
      "metadata": {
        "id": "view-in-github",
        "colab_type": "text"
      },
      "source": [
        "<a href=\"https://colab.research.google.com/github/jlsneto/cereja/blob/master/docs/cereja_example.ipynb\" target=\"_parent\"><img src=\"https://colab.research.google.com/assets/colab-badge.svg\" alt=\"Open In Colab\"/></a>"
      ]
    },
    {
      "cell_type": "markdown",
      "metadata": {
        "id": "8OIpCsdKwlet",
        "colab_type": "text"
      },
      "source": [
        "#Install cereja"
      ]
    },
    {
      "cell_type": "code",
      "metadata": {
        "id": "B1qNEuxZwVs_",
        "colab_type": "code",
        "colab": {}
      },
      "source": [
        "!pip install cereja --upgrade"
      ],
      "execution_count": 0,
      "outputs": []
    },
    {
      "cell_type": "markdown",
      "metadata": {
        "id": "B-6AKLqiwuGR",
        "colab_type": "text"
      },
      "source": [
        "#Import cereja"
      ]
    },
    {
      "cell_type": "code",
      "metadata": {
        "id": "KhRIV54DxZ6Z",
        "colab_type": "code",
        "colab": {}
      },
      "source": [
        "import cereja as cj"
      ],
      "execution_count": 0,
      "outputs": []
    },
    {
      "cell_type": "markdown",
      "metadata": {
        "id": "_FvoFjndxKIk",
        "colab_type": "text"
      },
      "source": [
        "##Commons"
      ]
    },
    {
      "cell_type": "markdown",
      "metadata": {
        "id": "2lxP-3C2tIZB",
        "colab_type": "text"
      },
      "source": [
        "###is_iterable\n",
        "return whether an object is iterable or not."
      ]
    },
    {
      "cell_type": "code",
      "metadata": {
        "id": "w_6TLC0DxI1f",
        "colab_type": "code",
        "cellView": "both",
        "outputId": "8319624c-a89a-4500-8415-45ca470e8cc6",
        "colab": {
          "base_uri": "https://localhost:8080/",
          "height": 34
        }
      },
      "source": [
        "my_var = [1,2,3] # change value and execute the cell\n",
        "cj.is_iterable(my_var)"
      ],
      "execution_count": 4,
      "outputs": [
        {
          "output_type": "execute_result",
          "data": {
            "text/plain": [
              "True"
            ]
          },
          "metadata": {
            "tags": []
          },
          "execution_count": 4
        }
      ]
    },
    {
      "cell_type": "code",
      "metadata": {
        "id": "bSJ69PuWiYGx",
        "colab_type": "code",
        "colab": {
          "base_uri": "https://localhost:8080/",
          "height": 34
        },
        "outputId": "1842bb83-eff4-424e-dcf0-26a894d1d401"
      },
      "source": [
        "cj.is_iterable('hi')"
      ],
      "execution_count": 6,
      "outputs": [
        {
          "output_type": "execute_result",
          "data": {
            "text/plain": [
              "True"
            ]
          },
          "metadata": {
            "tags": []
          },
          "execution_count": 6
        }
      ]
    },
    {
      "cell_type": "markdown",
      "metadata": {
        "id": "rCjh0owqhhUb",
        "colab_type": "text"
      },
      "source": [
        "###is_sequence\n",
        "\n",
        "Return whether an object a Sequence or not, exclude strings."
      ]
    },
    {
      "cell_type": "code",
      "metadata": {
        "id": "tAPeDiyRhzWS",
        "colab_type": "code",
        "colab": {
          "base_uri": "https://localhost:8080/",
          "height": 34
        },
        "outputId": "21e6a9d7-255e-4e47-d846-29193ce59990"
      },
      "source": [
        "cj.is_sequence([1,2,3])"
      ],
      "execution_count": 5,
      "outputs": [
        {
          "output_type": "execute_result",
          "data": {
            "text/plain": [
              "True"
            ]
          },
          "metadata": {
            "tags": []
          },
          "execution_count": 5
        }
      ]
    },
    {
      "cell_type": "code",
      "metadata": {
        "id": "QrFmt6iOicEL",
        "colab_type": "code",
        "colab": {
          "base_uri": "https://localhost:8080/",
          "height": 34
        },
        "outputId": "0c146096-239d-4d06-f99e-5153aeca1f13"
      },
      "source": [
        "cj.is_sequence('hi')"
      ],
      "execution_count": 8,
      "outputs": [
        {
          "output_type": "execute_result",
          "data": {
            "text/plain": [
              "False"
            ]
          },
          "metadata": {
            "tags": []
          },
          "execution_count": 8
        }
      ]
    },
    {
      "cell_type": "markdown",
      "metadata": {
        "id": "q88o7iwCinDY",
        "colab_type": "text"
      },
      "source": [
        "###theta_angle\n",
        "\n",
        "Calculates and returns theta angle between two vectors"
      ]
    },
    {
      "cell_type": "code",
      "metadata": {
        "id": "f547KjDWisWw",
        "colab_type": "code",
        "colab": {
          "base_uri": "https://localhost:8080/",
          "height": 34
        },
        "outputId": "353bd152-1d23-4668-af59-f0477daf144b"
      },
      "source": [
        "u = (2,2)\n",
        "v = (0, -2)\n",
        "cj.theta_angle(u, v)"
      ],
      "execution_count": 9,
      "outputs": [
        {
          "output_type": "execute_result",
          "data": {
            "text/plain": [
              "135.0"
            ]
          },
          "metadata": {
            "tags": []
          },
          "execution_count": 9
        }
      ]
    },
    {
      "cell_type": "markdown",
      "metadata": {
        "id": "Ho09h5KStktn",
        "colab_type": "text"
      },
      "source": [
        "###group_items_in_batches\n",
        "responsible for grouping items in batch taking into account the quantity of items per batch"
      ]
    },
    {
      "cell_type": "code",
      "metadata": {
        "id": "TXgvv3b2y1A9",
        "colab_type": "code",
        "outputId": "729ebc75-c558-4dce-9d04-e54b314d6e33",
        "colab": {
          "base_uri": "https://localhost:8080/",
          "height": 34
        }
      },
      "source": [
        "my_var = [1,2,3,4]\n",
        "num_items_per_batch = 4\n",
        "result = cj.group_items_in_batches(items=my_var, items_per_batch=num_items_per_batch)\n",
        "print(f\"items per batch with leftovers: {result}\")"
      ],
      "execution_count": 10,
      "outputs": [
        {
          "output_type": "stream",
          "text": [
            "items per batch with leftovers: [[1, 2, 3, 4]]\n"
          ],
          "name": "stdout"
        }
      ]
    },
    {
      "cell_type": "code",
      "metadata": {
        "id": "YWvTGuECtwHj",
        "colab_type": "code",
        "outputId": "8a4864a5-8cd7-4af4-945d-843861ebd62f",
        "colab": {
          "base_uri": "https://localhost:8080/",
          "height": 34
        }
      },
      "source": [
        "\"\"\"\n",
        "Note that the last batch does not contain the same number as the previous batch,\n",
        "this is due to the split split. You can choose to fill this void as in the example below.\n",
        "\"\"\"\n",
        "my_var = [1,2,3,4]\n",
        "num_items_per_batch = 3\n",
        "\n",
        "result = cj.group_items_in_batches(items=my_var, items_per_batch=num_items_per_batch, fill=\"cereja\")\n",
        "print(f\"fill values: {result}\")"
      ],
      "execution_count": 17,
      "outputs": [
        {
          "output_type": "stream",
          "text": [
            "fill values: [[1, 2, 3], [4, 'cereja', 'cereja']]\n"
          ],
          "name": "stdout"
        }
      ]
    },
    {
      "cell_type": "code",
      "metadata": {
        "id": "PPVLm9VNt3wj",
        "colab_type": "code",
        "outputId": "e589b13e-c18f-4a7c-f70f-eab6c73b205c",
        "colab": {
          "base_uri": "https://localhost:8080/",
          "height": 34
        }
      },
      "source": [
        "# Other examples\n",
        "result = cj.group_items_in_batches(items=['a','b','c','d'], items_per_batch=2)\n",
        "print(f\"Other examples: {result}\")"
      ],
      "execution_count": 4,
      "outputs": [
        {
          "output_type": "stream",
          "text": [
            "Other examples: [['a', 'b'], ['c', 'd']]\n"
          ],
          "name": "stdout"
        }
      ]
    },
    {
      "cell_type": "markdown",
      "metadata": {
        "id": "y7fcQ6WPuGkn",
        "colab_type": "text"
      },
      "source": [
        "###remove_duplicate_items\n",
        "remove duplicates items in an item list or duplicate items list of list"
      ]
    },
    {
      "cell_type": "code",
      "metadata": {
        "id": "M9lJN5t8AMvs",
        "colab_type": "code",
        "outputId": "5d1fc614-0571-47c5-f2ed-67040f4a5fdd",
        "colab": {
          "base_uri": "https://localhost:8080/",
          "height": 34
        }
      },
      "source": [
        "#simple list\n",
        "my_var = [1,2,3,4,4]\n",
        "result = cj.remove_duplicate_items(my_var)\n",
        "print(f\"simple list: {my_var} --> {result}\")"
      ],
      "execution_count": 3,
      "outputs": [
        {
          "output_type": "stream",
          "text": [
            "simple list: [1, 2, 3, 4, 4] --> [1, 2, 3, 4]\n"
          ],
          "name": "stdout"
        }
      ]
    },
    {
      "cell_type": "code",
      "metadata": {
        "id": "KUVj-_W0uXxa",
        "colab_type": "code",
        "outputId": "c0996527-c51c-4c1b-f8f2-c138622c8c96",
        "colab": {
          "base_uri": "https://localhost:8080/",
          "height": 34
        }
      },
      "source": [
        "#list of list\n",
        "my_var = [[1,2,3,4,4], [1,2,3,4,4]]\n",
        "result = cj.remove_duplicate_items(my_var)\n",
        "print(f\"list of list: {my_var} --> {result}\")"
      ],
      "execution_count": 5,
      "outputs": [
        {
          "output_type": "stream",
          "text": [
            "list of list: [[1, 2, 3, 4, 4], [1, 2, 3, 4, 4]] --> [[1, 2, 3, 4, 4]]\n"
          ],
          "name": "stdout"
        }
      ]
    },
    {
      "cell_type": "code",
      "metadata": {
        "id": "vBPxDdzfujKO",
        "colab_type": "code",
        "outputId": "35263f08-62cb-4e42-cfea-6eb0a5706260",
        "colab": {
          "base_uri": "https://localhost:8080/",
          "height": 34
        }
      },
      "source": [
        "# other example\n",
        "my_var = [['hi'], ['hi'], ['ih']]\n",
        "result = cj.remove_duplicate_items(my_var)\n",
        "print(f\"other example: {my_var} --> {result}\")"
      ],
      "execution_count": 6,
      "outputs": [
        {
          "output_type": "stream",
          "text": [
            "other example: [['hi'], ['hi'], ['ih']] --> [['hi'], ['ih']]\n"
          ],
          "name": "stdout"
        }
      ]
    },
    {
      "cell_type": "markdown",
      "metadata": {
        "id": "KbsUISmOkRDD",
        "colab_type": "text"
      },
      "source": [
        "###flatten\n",
        "\n",
        "Receives values, whether arrays of values, regardless of their shape and flatness"
      ]
    },
    {
      "cell_type": "code",
      "metadata": {
        "id": "mxUDUIaGkV_o",
        "colab_type": "code",
        "colab": {
          "base_uri": "https://localhost:8080/",
          "height": 34
        },
        "outputId": "496d2b91-7e78-4817-ec33-5d08f2443047"
      },
      "source": [
        "sequence = [[1, 2, 3], [], [[2, [3], 4], 6]]\n",
        "cj.flatten(sequence)"
      ],
      "execution_count": 7,
      "outputs": [
        {
          "output_type": "execute_result",
          "data": {
            "text/plain": [
              "[1, 2, 3, 2, 3, 4, 6]"
            ]
          },
          "metadata": {
            "tags": []
          },
          "execution_count": 7
        }
      ]
    },
    {
      "cell_type": "code",
      "metadata": {
        "id": "5uK1e-rQxcTf",
        "colab_type": "code",
        "colab": {
          "base_uri": "https://localhost:8080/",
          "height": 34
        },
        "outputId": "06d15f0b-277d-4dd6-b59b-db60bb68f2c0"
      },
      "source": [
        "sequence = [[1, 2, 3], [], [[2, [3], 4], 6]]\n",
        "cj.flatten(sequence, max_recursion=2)"
      ],
      "execution_count": 9,
      "outputs": [
        {
          "output_type": "execute_result",
          "data": {
            "text/plain": [
              "[1, 2, 3, 2, [3], 4, 6]"
            ]
          },
          "metadata": {
            "tags": []
          },
          "execution_count": 9
        }
      ]
    },
    {
      "cell_type": "markdown",
      "metadata": {
        "id": "pzo5oUytvnsG",
        "colab_type": "text"
      },
      "source": [
        "###Freq Class\n",
        "Enumerates the amount of identical intens generating a dictionary of frequencies. Where KEY is item - the original list's item -  and VALUE is the total amount."
      ]
    },
    {
      "cell_type": "markdown",
      "metadata": {
        "id": "qOn877TQxhKW",
        "colab_type": "text"
      },
      "source": [
        "####instance of Freq"
      ]
    },
    {
      "cell_type": "code",
      "metadata": {
        "id": "cNO-l7MKvlRG",
        "colab_type": "code",
        "outputId": "a353b6c0-c7b7-4436-ccbc-f38c1d072b15",
        "colab": {
          "base_uri": "https://localhost:8080/",
          "height": 34
        }
      },
      "source": [
        "# Instance\n",
        "freq = cj.Freq([1,2,3,3,4,5,6,7,6,7,12,31,123,5,3])\n",
        "print(freq)"
      ],
      "execution_count": 10,
      "outputs": [
        {
          "output_type": "stream",
          "text": [
            "{3: 3, 5: 2, 6: 2, 7: 2, 1: 1, 2: 1, 4: 1, 12: 1, 31: 1, 123: 1}\n"
          ],
          "name": "stdout"
        }
      ]
    },
    {
      "cell_type": "markdown",
      "metadata": {
        "id": "ddCDXmX0xmzD",
        "colab_type": "text"
      },
      "source": [
        "####most_freq"
      ]
    },
    {
      "cell_type": "markdown",
      "metadata": {
        "id": "MasIEXjPyD7P",
        "colab_type": "text"
      },
      "source": [
        "returns the most frequent items from the list, the maximum number of items must be entered."
      ]
    },
    {
      "cell_type": "code",
      "metadata": {
        "id": "Sp3jZx3KxYXO",
        "colab_type": "code",
        "outputId": "0c465a7c-f148-4f68-a3b8-9c2f3ee5d65f",
        "colab": {
          "base_uri": "https://localhost:8080/",
          "height": 34
        }
      },
      "source": [
        "freq = cj.Freq([1,2,3,3,4,5,6,7,6,7,12,31,123,5,3])\n",
        "freq.most_freq(4)"
      ],
      "execution_count": 11,
      "outputs": [
        {
          "output_type": "execute_result",
          "data": {
            "text/plain": [
              "{3: 3, 5: 2, 6: 2, 7: 2}"
            ]
          },
          "metadata": {
            "tags": []
          },
          "execution_count": 11
        }
      ]
    },
    {
      "cell_type": "markdown",
      "metadata": {
        "id": "aErkzjfoyUgj",
        "colab_type": "text"
      },
      "source": [
        "####least_freq\n",
        "When returning the least frequent items from the list, the maximum number of items must be entered."
      ]
    },
    {
      "cell_type": "code",
      "metadata": {
        "id": "aVkXduKezIYs",
        "colab_type": "code",
        "colab": {
          "base_uri": "https://localhost:8080/",
          "height": 34
        },
        "outputId": "d727f9ed-1c70-4276-a16c-b1f7c4c6e061"
      },
      "source": [
        "freq = cj.Freq([1,2,3,3,4,5,6,7,6,7,12,31,123,5,3])\n",
        "freq.least_freq(4)"
      ],
      "execution_count": 13,
      "outputs": [
        {
          "output_type": "execute_result",
          "data": {
            "text/plain": [
              "{4: 1, 12: 1, 31: 1, 123: 1}"
            ]
          },
          "metadata": {
            "tags": []
          },
          "execution_count": 13
        }
      ]
    },
    {
      "cell_type": "markdown",
      "metadata": {
        "id": "SCpqGct6BCmn",
        "colab_type": "text"
      },
      "source": [
        "##Decorators"
      ]
    },
    {
      "cell_type": "markdown",
      "metadata": {
        "id": "5_RAxSJru0ZV",
        "colab_type": "text"
      },
      "source": [
        "###time_exec\n",
        "used to signal or perform a particular function."
      ]
    },
    {
      "cell_type": "code",
      "metadata": {
        "id": "8faV1ZV9BN1w",
        "colab_type": "code",
        "outputId": "ceae4a30-57d2-491c-8744-076c9bb482c1",
        "colab": {
          "base_uri": "https://localhost:8080/",
          "height": 52
        }
      },
      "source": [
        "@cj.time_exec\n",
        "def my_function(my_param): # Change-me\n",
        "    print(my_param)\n",
        "\n",
        "my_function(\"Hi Cereja\")"
      ],
      "execution_count": 14,
      "outputs": [
        {
          "output_type": "stream",
          "text": [
            "Hi Cereja\n",
            "[my_function] performed 0.00046539306640625\n"
          ],
          "name": "stdout"
        }
      ]
    },
    {
      "cell_type": "markdown",
      "metadata": {
        "id": "XTqMg2BqCutt",
        "colab_type": "text"
      },
      "source": [
        "##Path"
      ]
    },
    {
      "cell_type": "markdown",
      "metadata": {
        "id": "UtBVEmZAvFA8",
        "colab_type": "text"
      },
      "source": [
        "###group_path_from_dir \n",
        "returns data tuples based on the number of items entered for each tuple,\n",
        "follows the default order if no sort function is sent"
      ]
    },
    {
      "cell_type": "code",
      "metadata": {
        "id": "qxpaAczOCxCn",
        "colab_type": "code",
        "outputId": "34c53775-d9dd-4319-a32d-6d2eee06c635",
        "colab": {
          "base_uri": "https://localhost:8080/",
          "height": 86
        }
      },
      "source": [
        "\"\"\"\n",
        "group_path_from_dir function ...\n",
        "\n",
        "\"\"\"\n",
        "my_dir = '/content/sample_data'\n",
        "my_ext_file = '.csv'\n",
        "\n",
        "cj.group_path_from_dir(dir_path=my_dir, num_items_on_tuple=2, ext_file=my_ext_file)"
      ],
      "execution_count": 15,
      "outputs": [
        {
          "output_type": "execute_result",
          "data": {
            "text/plain": [
              "[['/content/sample_data/california_housing_test.csv',\n",
              "  '/content/sample_data/california_housing_train.csv'],\n",
              " ['/content/sample_data/mnist_test.csv',\n",
              "  '/content/sample_data/mnist_train_small.csv']]"
            ]
          },
          "metadata": {
            "tags": []
          },
          "execution_count": 15
        }
      ]
    },
    {
      "cell_type": "markdown",
      "metadata": {
        "id": "ckTiv8_kvQAA",
        "colab_type": "text"
      },
      "source": [
        "###file_name"
      ]
    },
    {
      "cell_type": "code",
      "metadata": {
        "id": "qgiqJp8vEU-r",
        "colab_type": "code",
        "outputId": "b2d9b6c9-2048-46e7-e98a-627dc2e3dedf",
        "colab": {
          "base_uri": "https://localhost:8080/",
          "height": 52
        }
      },
      "source": [
        "my_file_path = '/content/sample_data/california_housing_test.csv'\n",
        "result = cj.file_name(file_path=my_file_path)\n",
        "print(f\"file_path: {my_file_path} --> {result}\")\n",
        "\n",
        "# or with ext\n",
        "result = cj.file_name(file_path=my_file_path, with_ext=True)\n",
        "print(f\"file_path: {my_file_path} --> {result}\")"
      ],
      "execution_count": 16,
      "outputs": [
        {
          "output_type": "stream",
          "text": [
            "file_path: /content/sample_data/california_housing_test.csv --> california_housing_test\n",
            "file_path: /content/sample_data/california_housing_test.csv --> california_housing_test.csv\n"
          ],
          "name": "stdout"
        }
      ]
    }
  ]
}