{
  "nbformat": 4,
  "nbformat_minor": 0,
  "metadata": {
    "colab": {
      "name": "cereja_example.ipynb",
      "provenance": [],
      "collapsed_sections": [],
      "toc_visible": true,
      "include_colab_link": true
    },
    "kernelspec": {
      "name": "python3",
      "display_name": "Python 3"
    }
  },
  "cells": [
    {
      "cell_type": "markdown",
      "metadata": {
        "id": "view-in-github",
        "colab_type": "text"
      },
      "source": [
        "<a href=\"https://colab.research.google.com/github/jlsneto/cereja/blob/master/docs/cereja_example.ipynb\" target=\"_parent\"><img src=\"https://colab.research.google.com/assets/colab-badge.svg\" alt=\"Open In Colab\"/></a>"
      ]
    },
    {
      "cell_type": "markdown",
      "metadata": {
        "id": "8OIpCsdKwlet",
        "colab_type": "text"
      },
      "source": [
        "#Install cereja"
      ]
    },
    {
      "cell_type": "code",
      "metadata": {
        "id": "B1qNEuxZwVs_",
        "colab_type": "code",
        "colab": {
          "base_uri": "https://localhost:8080/",
          "height": 105
        },
        "outputId": "fb468597-fd12-4454-d0e8-0dfeee6151f2"
      },
      "source": [
        "!pip install cereja --upgrade"
      ],
      "execution_count": 1,
      "outputs": [
        {
          "output_type": "stream",
          "text": [
            "Collecting cereja\n",
            "  Downloading https://files.pythonhosted.org/packages/2b/49/d967ec305185e18d74d2978b0b7fd2e2cbe5436735da0b9773c8c483a049/cereja-1.0.1-py3-none-any.whl\n",
            "Installing collected packages: cereja\n",
            "Successfully installed cereja-1.0.1\n"
          ],
          "name": "stdout"
        }
      ]
    },
    {
      "cell_type": "markdown",
      "metadata": {
        "id": "B-6AKLqiwuGR",
        "colab_type": "text"
      },
      "source": [
        "#Import cereja"
      ]
    },
    {
      "cell_type": "code",
      "metadata": {
        "id": "KhRIV54DxZ6Z",
        "colab_type": "code",
        "colab": {}
      },
      "source": [
        "import cereja as cj"
      ],
      "execution_count": 0,
      "outputs": []
    },
    {
      "cell_type": "markdown",
      "metadata": {
        "id": "_FvoFjndxKIk",
        "colab_type": "text"
      },
      "source": [
        "##Commons"
      ]
    },
    {
      "cell_type": "markdown",
      "metadata": {
        "id": "2lxP-3C2tIZB",
        "colab_type": "text"
      },
      "source": [
        "###is_iterable\n",
        "return whether an object is iterable or not."
      ]
    },
    {
      "cell_type": "code",
      "metadata": {
        "id": "w_6TLC0DxI1f",
        "colab_type": "code",
        "cellView": "both",
        "outputId": "4c3dbc67-7c11-4ae6-d441-91cd46cd8725",
        "colab": {
          "base_uri": "https://localhost:8080/",
          "height": 34
        }
      },
      "source": [
        "my_var = [1,2,3] # change value and execute the cell\n",
        "cj.is_iterable(my_var)"
      ],
      "execution_count": 3,
      "outputs": [
        {
          "output_type": "execute_result",
          "data": {
            "text/plain": [
              "True"
            ]
          },
          "metadata": {
            "tags": []
          },
          "execution_count": 3
        }
      ]
    },
    {
      "cell_type": "code",
      "metadata": {
        "id": "bSJ69PuWiYGx",
        "colab_type": "code",
        "outputId": "716a552d-9b33-4261-9221-244e3f797f9c",
        "colab": {
          "base_uri": "https://localhost:8080/",
          "height": 34
        }
      },
      "source": [
        "cj.is_iterable('hi')"
      ],
      "execution_count": 4,
      "outputs": [
        {
          "output_type": "execute_result",
          "data": {
            "text/plain": [
              "True"
            ]
          },
          "metadata": {
            "tags": []
          },
          "execution_count": 4
        }
      ]
    },
    {
      "cell_type": "markdown",
      "metadata": {
        "id": "rCjh0owqhhUb",
        "colab_type": "text"
      },
      "source": [
        "###is_sequence\n",
        "\n",
        "Return whether an object a Sequence or not, exclude strings."
      ]
    },
    {
      "cell_type": "code",
      "metadata": {
        "id": "tAPeDiyRhzWS",
        "colab_type": "code",
        "outputId": "9bdee8b7-0e33-4210-d915-06848e87eb9c",
        "colab": {
          "base_uri": "https://localhost:8080/",
          "height": 34
        }
      },
      "source": [
        "cj.is_sequence([1,2,3])"
      ],
      "execution_count": 5,
      "outputs": [
        {
          "output_type": "execute_result",
          "data": {
            "text/plain": [
              "True"
            ]
          },
          "metadata": {
            "tags": []
          },
          "execution_count": 5
        }
      ]
    },
    {
      "cell_type": "code",
      "metadata": {
        "id": "QrFmt6iOicEL",
        "colab_type": "code",
        "outputId": "0e1fdd6a-4d01-4183-83b3-6df239cd6814",
        "colab": {
          "base_uri": "https://localhost:8080/",
          "height": 34
        }
      },
      "source": [
        "cj.is_sequence('hi')"
      ],
      "execution_count": 6,
      "outputs": [
        {
          "output_type": "execute_result",
          "data": {
            "text/plain": [
              "False"
            ]
          },
          "metadata": {
            "tags": []
          },
          "execution_count": 6
        }
      ]
    },
    {
      "cell_type": "markdown",
      "metadata": {
        "id": "q88o7iwCinDY",
        "colab_type": "text"
      },
      "source": [
        "###theta_angle\n",
        "\n",
        "Calculates and returns theta angle between two vectors"
      ]
    },
    {
      "cell_type": "code",
      "metadata": {
        "id": "f547KjDWisWw",
        "colab_type": "code",
        "outputId": "9e3eba10-c195-4b4a-9c36-86f1d377e390",
        "colab": {
          "base_uri": "https://localhost:8080/",
          "height": 34
        }
      },
      "source": [
        "u = (2,2)\n",
        "v = (0, -2)\n",
        "cj.theta_angle(u, v)"
      ],
      "execution_count": 7,
      "outputs": [
        {
          "output_type": "execute_result",
          "data": {
            "text/plain": [
              "135.0"
            ]
          },
          "metadata": {
            "tags": []
          },
          "execution_count": 7
        }
      ]
    },
    {
      "cell_type": "markdown",
      "metadata": {
        "id": "Ho09h5KStktn",
        "colab_type": "text"
      },
      "source": [
        "###group_items_in_batches\n",
        "responsible for grouping items in batch taking into account the quantity of items per batch"
      ]
    },
    {
      "cell_type": "code",
      "metadata": {
        "id": "TXgvv3b2y1A9",
        "colab_type": "code",
        "outputId": "4f31f0b8-68b1-469d-fb5b-968a7b4eeaed",
        "colab": {
          "base_uri": "https://localhost:8080/",
          "height": 34
        }
      },
      "source": [
        "my_var = [1,2,3,4]\n",
        "num_items_per_batch = 4\n",
        "result = cj.group_items_in_batches(items=my_var, items_per_batch=num_items_per_batch)\n",
        "print(f\"items per batch with leftovers: {result}\")"
      ],
      "execution_count": 8,
      "outputs": [
        {
          "output_type": "stream",
          "text": [
            "items per batch with leftovers: [[1, 2, 3, 4]]\n"
          ],
          "name": "stdout"
        }
      ]
    },
    {
      "cell_type": "code",
      "metadata": {
        "id": "YWvTGuECtwHj",
        "colab_type": "code",
        "outputId": "1e61683b-e583-4a25-b11d-8e25d4060ecd",
        "colab": {
          "base_uri": "https://localhost:8080/",
          "height": 34
        }
      },
      "source": [
        "\"\"\"\n",
        "Note that the last batch does not contain the same number as the previous batch,\n",
        "this is due to the split split. You can choose to fill this void as in the example below.\n",
        "\"\"\"\n",
        "my_var = [1,2,3,4]\n",
        "num_items_per_batch = 3\n",
        "\n",
        "result = cj.group_items_in_batches(items=my_var, items_per_batch=num_items_per_batch, fill=\"cereja\")\n",
        "print(f\"fill values: {result}\")"
      ],
      "execution_count": 9,
      "outputs": [
        {
          "output_type": "stream",
          "text": [
            "fill values: [[1, 2, 3], [4, 'cereja', 'cereja']]\n"
          ],
          "name": "stdout"
        }
      ]
    },
    {
      "cell_type": "code",
      "metadata": {
        "id": "PPVLm9VNt3wj",
        "colab_type": "code",
        "outputId": "8756924d-da77-4543-e4f0-98ac2c648144",
        "colab": {
          "base_uri": "https://localhost:8080/",
          "height": 34
        }
      },
      "source": [
        "# Other examples\n",
        "result = cj.group_items_in_batches(items=['a','b','c','d'], items_per_batch=2)\n",
        "print(f\"Other examples: {result}\")"
      ],
      "execution_count": 10,
      "outputs": [
        {
          "output_type": "stream",
          "text": [
            "Other examples: [['a', 'b'], ['c', 'd']]\n"
          ],
          "name": "stdout"
        }
      ]
    },
    {
      "cell_type": "markdown",
      "metadata": {
        "id": "y7fcQ6WPuGkn",
        "colab_type": "text"
      },
      "source": [
        "###remove_duplicate_items\n",
        "remove duplicates items in an item list or duplicate items list of list"
      ]
    },
    {
      "cell_type": "code",
      "metadata": {
        "id": "M9lJN5t8AMvs",
        "colab_type": "code",
        "outputId": "6d64740a-dc18-4f0a-b550-a79bbb595b41",
        "colab": {
          "base_uri": "https://localhost:8080/",
          "height": 34
        }
      },
      "source": [
        "#simple list\n",
        "my_var = [1,2,3,4,4]\n",
        "result = cj.remove_duplicate_items(my_var)\n",
        "print(f\"simple list: {my_var} --> {result}\")"
      ],
      "execution_count": 11,
      "outputs": [
        {
          "output_type": "stream",
          "text": [
            "simple list: [1, 2, 3, 4, 4] --> [1, 2, 3, 4]\n"
          ],
          "name": "stdout"
        }
      ]
    },
    {
      "cell_type": "code",
      "metadata": {
        "id": "KUVj-_W0uXxa",
        "colab_type": "code",
        "outputId": "11c0c0e9-9a5c-4e8b-ce47-d106cc4e0994",
        "colab": {
          "base_uri": "https://localhost:8080/",
          "height": 34
        }
      },
      "source": [
        "#list of list\n",
        "my_var = [[1,2,3,4,4], [1,2,3,4,4]]\n",
        "result = cj.remove_duplicate_items(my_var)\n",
        "print(f\"list of list: {my_var} --> {result}\")"
      ],
      "execution_count": 12,
      "outputs": [
        {
          "output_type": "stream",
          "text": [
            "list of list: [[1, 2, 3, 4, 4], [1, 2, 3, 4, 4]] --> [[1, 2, 3, 4, 4]]\n"
          ],
          "name": "stdout"
        }
      ]
    },
    {
      "cell_type": "code",
      "metadata": {
        "id": "vBPxDdzfujKO",
        "colab_type": "code",
        "outputId": "3f2efd4d-6862-460f-ca16-6b92f84c9c8e",
        "colab": {
          "base_uri": "https://localhost:8080/",
          "height": 34
        }
      },
      "source": [
        "# other example\n",
        "my_var = [['hi'], ['hi'], ['ih']]\n",
        "result = cj.remove_duplicate_items(my_var)\n",
        "print(f\"other example: {my_var} --> {result}\")"
      ],
      "execution_count": 13,
      "outputs": [
        {
          "output_type": "stream",
          "text": [
            "other example: [['hi'], ['hi'], ['ih']] --> [['hi'], ['ih']]\n"
          ],
          "name": "stdout"
        }
      ]
    },
    {
      "cell_type": "markdown",
      "metadata": {
        "id": "KbsUISmOkRDD",
        "colab_type": "text"
      },
      "source": [
        "###flatten\n",
        "\n",
        "Receives values, whether arrays of values, regardless of their shape and flatness"
      ]
    },
    {
      "cell_type": "code",
      "metadata": {
        "id": "mxUDUIaGkV_o",
        "colab_type": "code",
        "outputId": "084c049f-77f1-4ffb-c220-60c7ed95e0a4",
        "colab": {
          "base_uri": "https://localhost:8080/",
          "height": 34
        }
      },
      "source": [
        "sequence = [[1, 2, 3], [], [[2, [3], 4], 6]]\n",
        "cj.flatten(sequence)"
      ],
      "execution_count": 14,
      "outputs": [
        {
          "output_type": "execute_result",
          "data": {
            "text/plain": [
              "[1, 2, 3, 2, 3, 4, 6]"
            ]
          },
          "metadata": {
            "tags": []
          },
          "execution_count": 14
        }
      ]
    },
    {
      "cell_type": "code",
      "metadata": {
        "id": "5uK1e-rQxcTf",
        "colab_type": "code",
        "outputId": "2f103f1e-e7da-4774-b13f-aacc919e42d0",
        "colab": {
          "base_uri": "https://localhost:8080/",
          "height": 34
        }
      },
      "source": [
        "sequence = [[1, 2, 3], [], [[2, [3], 4], 6]]\n",
        "cj.flatten(sequence, max_recursion=2)"
      ],
      "execution_count": 15,
      "outputs": [
        {
          "output_type": "execute_result",
          "data": {
            "text/plain": [
              "[1, 2, 3, 2, [3], 4, 6]"
            ]
          },
          "metadata": {
            "tags": []
          },
          "execution_count": 15
        }
      ]
    },
    {
      "cell_type": "markdown",
      "metadata": {
        "id": "pzo5oUytvnsG",
        "colab_type": "text"
      },
      "source": [
        "###Freq Class\n",
        "Enumerates the amount of identical intens generating a dictionary of frequencies. Where KEY is item - the original list's item -  and VALUE is the total amount."
      ]
    },
    {
      "cell_type": "markdown",
      "metadata": {
        "id": "qOn877TQxhKW",
        "colab_type": "text"
      },
      "source": [
        "####instance of Freq"
      ]
    },
    {
      "cell_type": "code",
      "metadata": {
        "id": "cNO-l7MKvlRG",
        "colab_type": "code",
        "outputId": "b91d4ac7-710e-46d9-ffda-cfc1e48d98fc",
        "colab": {
          "base_uri": "https://localhost:8080/",
          "height": 51
        }
      },
      "source": [
        "# Instance\n",
        "freq = cj.Freq([1,2,3,3,4,5,6,7,6,7,12,31,123,5,3])\n",
        "print(freq)"
      ],
      "execution_count": 16,
      "outputs": [
        {
          "output_type": "stream",
          "text": [
            "WARNING:cereja.common:[!] class still under development\n",
            "{3: 3, 5: 2, 6: 2, 7: 2, 1: 1, 2: 1, 4: 1, 12: 1, 31: 1, 123: 1}\n"
          ],
          "name": "stdout"
        }
      ]
    },
    {
      "cell_type": "markdown",
      "metadata": {
        "id": "ddCDXmX0xmzD",
        "colab_type": "text"
      },
      "source": [
        "####most_freq"
      ]
    },
    {
      "cell_type": "markdown",
      "metadata": {
        "id": "MasIEXjPyD7P",
        "colab_type": "text"
      },
      "source": [
        "returns the most frequent items from the list, the maximum number of items must be entered."
      ]
    },
    {
      "cell_type": "code",
      "metadata": {
        "id": "Sp3jZx3KxYXO",
        "colab_type": "code",
        "outputId": "53514344-64ac-4361-a235-cf0bb3329ad1",
        "colab": {
          "base_uri": "https://localhost:8080/",
          "height": 51
        }
      },
      "source": [
        "freq = cj.Freq([1,2,3,3,4,5,6,7,6,7,12,31,123,5,3])\n",
        "freq.most_freq(4)"
      ],
      "execution_count": 17,
      "outputs": [
        {
          "output_type": "stream",
          "text": [
            "WARNING:cereja.common:[!] class still under development\n"
          ],
          "name": "stdout"
        },
        {
          "output_type": "execute_result",
          "data": {
            "text/plain": [
              "{3: 3, 5: 2, 6: 2, 7: 2}"
            ]
          },
          "metadata": {
            "tags": []
          },
          "execution_count": 17
        }
      ]
    },
    {
      "cell_type": "markdown",
      "metadata": {
        "id": "aErkzjfoyUgj",
        "colab_type": "text"
      },
      "source": [
        "####least_freq\n",
        "When returning the least frequent items from the list, the maximum number of items must be entered."
      ]
    },
    {
      "cell_type": "code",
      "metadata": {
        "id": "aVkXduKezIYs",
        "colab_type": "code",
        "outputId": "4061fa9d-7fc0-4622-8c82-d13c2f65f328",
        "colab": {
          "base_uri": "https://localhost:8080/",
          "height": 51
        }
      },
      "source": [
        "freq = cj.Freq([1,2,3,3,4,5,6,7,6,7,12,31,123,5,3])\n",
        "freq.least_freq(4)"
      ],
      "execution_count": 18,
      "outputs": [
        {
          "output_type": "stream",
          "text": [
            "WARNING:cereja.common:[!] class still under development\n"
          ],
          "name": "stdout"
        },
        {
          "output_type": "execute_result",
          "data": {
            "text/plain": [
              "{4: 1, 12: 1, 31: 1, 123: 1}"
            ]
          },
          "metadata": {
            "tags": []
          },
          "execution_count": 18
        }
      ]
    },
    {
      "cell_type": "markdown",
      "metadata": {
        "id": "SCpqGct6BCmn",
        "colab_type": "text"
      },
      "source": [
        "##Decorators"
      ]
    },
    {
      "cell_type": "markdown",
      "metadata": {
        "id": "5_RAxSJru0ZV",
        "colab_type": "text"
      },
      "source": [
        "###time_exec\n",
        "used to signal or perform a particular function."
      ]
    },
    {
      "cell_type": "code",
      "metadata": {
        "id": "8faV1ZV9BN1w",
        "colab_type": "code",
        "outputId": "95a6276b-8fc1-42d3-a2f0-153f5953ca1b",
        "colab": {
          "base_uri": "https://localhost:8080/",
          "height": 68
        }
      },
      "source": [
        "cj.set_log_level('INFO') # needed to see message \n",
        "@cj.time_exec\n",
        "def my_function(my_param): # Change-me\n",
        "    print(my_param)\n",
        "\n",
        "my_function(\"Hi Cereja\")"
      ],
      "execution_count": 21,
      "outputs": [
        {
          "output_type": "stream",
          "text": [
            "INFO:cereja.utils:Update log level to INFO\n",
            "Hi Cereja\n",
            "INFO:cereja.decorators:[my_function] performed 5.9604644775390625e-05\n"
          ],
          "name": "stdout"
        }
      ]
    },
    {
      "cell_type": "markdown",
      "metadata": {
        "id": "XTqMg2BqCutt",
        "colab_type": "text"
      },
      "source": [
        "##Path"
      ]
    },
    {
      "cell_type": "markdown",
      "metadata": {
        "id": "UtBVEmZAvFA8",
        "colab_type": "text"
      },
      "source": [
        "###group_path_from_dir \n",
        "returns data tuples based on the number of items entered for each tuple,\n",
        "follows the default order if no sort function is sent"
      ]
    },
    {
      "cell_type": "code",
      "metadata": {
        "id": "qxpaAczOCxCn",
        "colab_type": "code",
        "outputId": "b8a3dfcf-0d3a-4731-f176-e1cfd2ae06b4",
        "colab": {
          "base_uri": "https://localhost:8080/",
          "height": 85
        }
      },
      "source": [
        "\"\"\"\n",
        "group_path_from_dir function ...\n",
        "\n",
        "\"\"\"\n",
        "my_dir = '/content/sample_data'\n",
        "my_ext_file = '.csv'\n",
        "\n",
        "cj.group_path_from_dir(dir_path=my_dir, num_items_on_tuple=2, ext_file=my_ext_file)"
      ],
      "execution_count": 22,
      "outputs": [
        {
          "output_type": "execute_result",
          "data": {
            "text/plain": [
              "[['/content/sample_data/california_housing_test.csv',\n",
              "  '/content/sample_data/california_housing_train.csv'],\n",
              " ['/content/sample_data/mnist_test.csv',\n",
              "  '/content/sample_data/mnist_train_small.csv']]"
            ]
          },
          "metadata": {
            "tags": []
          },
          "execution_count": 22
        }
      ]
    },
    {
      "cell_type": "markdown",
      "metadata": {
        "id": "ckTiv8_kvQAA",
        "colab_type": "text"
      },
      "source": [
        "###file_name"
      ]
    },
    {
      "cell_type": "code",
      "metadata": {
        "id": "qgiqJp8vEU-r",
        "colab_type": "code",
        "outputId": "5cf66ddd-7bdc-439d-b274-1110c44ed1b7",
        "colab": {
          "base_uri": "https://localhost:8080/",
          "height": 51
        }
      },
      "source": [
        "my_file_path = '/content/sample_data/california_housing_test.csv'\n",
        "result = cj.file_name(file_path=my_file_path)\n",
        "print(f\"file_path: {my_file_path} --> {result}\")\n",
        "\n",
        "# or with ext\n",
        "result = cj.file_name(file_path=my_file_path, with_ext=True)\n",
        "print(f\"file_path: {my_file_path} --> {result}\")"
      ],
      "execution_count": 23,
      "outputs": [
        {
          "output_type": "stream",
          "text": [
            "file_path: /content/sample_data/california_housing_test.csv --> california_housing_test\n",
            "file_path: /content/sample_data/california_housing_test.csv --> california_housing_test.csv\n"
          ],
          "name": "stdout"
        }
      ]
    }
  ]
}