{
  "nbformat": 4,
  "nbformat_minor": 0,
  "metadata": {
    "colab": {
      "name": "cereja_example.ipynb",
      "provenance": [],
      "collapsed_sections": [],
      "include_colab_link": true
    },
    "kernelspec": {
      "name": "python3",
      "display_name": "Python 3"
    }
  },
  "cells": [
    {
      "cell_type": "markdown",
      "metadata": {
        "id": "view-in-github",
        "colab_type": "text"
      },
      "source": [
        "<a href=\"https://colab.research.google.com/github/jlsneto/cereja/blob/master/docs/cereja_example.ipynb\" target=\"_parent\"><img src=\"https://colab.research.google.com/assets/colab-badge.svg\" alt=\"Open In Colab\"/></a>"
      ]
    },
    {
      "cell_type": "markdown",
      "metadata": {
        "id": "8OIpCsdKwlet",
        "colab_type": "text"
      },
      "source": [
        "#Install cereja"
      ]
    },
    {
      "cell_type": "code",
      "metadata": {
        "id": "B1qNEuxZwVs_",
        "colab_type": "code",
        "outputId": "480dee03-d555-4a60-f642-58ca50461b5b",
        "colab": {
          "base_uri": "https://localhost:8080/",
          "height": 85
        }
      },
      "source": [
        "!pip install cereja"
      ],
      "execution_count": 1,
      "outputs": [
        {
          "output_type": "stream",
          "text": [
            "Collecting cereja\n",
            "  Downloading https://files.pythonhosted.org/packages/6f/b5/3aab34c98ec1d5886d9a28ddbe5f307ebc393eec1986fba5f4685c3aaace/cereja-0.1.9-py3-none-any.whl\n",
            "Installing collected packages: cereja\n",
            "Successfully installed cereja-0.1.9\n"
          ],
          "name": "stdout"
        }
      ]
    },
    {
      "cell_type": "markdown",
      "metadata": {
        "id": "B-6AKLqiwuGR",
        "colab_type": "text"
      },
      "source": [
        "#The module Utils"
      ]
    },
    {
      "cell_type": "code",
      "metadata": {
        "id": "KhRIV54DxZ6Z",
        "colab_type": "code",
        "colab": {}
      },
      "source": [
        "from cereja import utils as cj"
      ],
      "execution_count": 0,
      "outputs": []
    },
    {
      "cell_type": "markdown",
      "metadata": {
        "id": "_FvoFjndxKIk",
        "colab_type": "text"
      },
      "source": [
        "##Commons"
      ]
    },
    {
      "cell_type": "code",
      "metadata": {
        "id": "w_6TLC0DxI1f",
        "colab_type": "code",
        "cellView": "both",
        "outputId": "7088dbf1-2ead-435e-fcd4-a21a47628d33",
        "colab": {
          "base_uri": "https://localhost:8080/",
          "height": 34
        }
      },
      "source": [
        "# is_iterable function return whether an object is iterable or not.\n",
        "my_var = [1,2,3] # change value and execute the cell\n",
        "cj.common.is_iterable(my_var)"
      ],
      "execution_count": 4,
      "outputs": [
        {
          "output_type": "execute_result",
          "data": {
            "text/plain": [
              "True"
            ]
          },
          "metadata": {
            "tags": []
          },
          "execution_count": 4
        }
      ]
    },
    {
      "cell_type": "code",
      "metadata": {
        "id": "TXgvv3b2y1A9",
        "colab_type": "code",
        "outputId": "dc483967-1f7c-4a23-a472-20c388b3093b",
        "colab": {
          "base_uri": "https://localhost:8080/",
          "height": 68
        }
      },
      "source": [
        "# group_items_in_batches responsible for grouping items in batch taking into account the quantity of items per batch\n",
        "my_var = [1,2,3,4]\n",
        "num_items_per_batch = 4\n",
        "result = cj.common.group_items_in_batches(items=my_var, items_per_batch=num_items_per_batch)\n",
        "print(f\"items per batch with leftovers: {result}\")\n",
        "\n",
        "\"\"\"\n",
        "Note that the last batch does not contain the same number as the previous batch,\n",
        "this is due to the split split. You can choose to fill this void as in the example below.\n",
        "\"\"\"\n",
        "result = cj.common.group_items_in_batches(items=my_var, items_per_batch=3, fill=\"arthur\")\n",
        "print(f\"fill values: {result}\")\n",
        "\n",
        "# Other examples\n",
        "result = cj.common.group_items_in_batches(items=['a','b','c','d'], items_per_batch=2)\n",
        "print(f\"Other examples: {result}\")"
      ],
      "execution_count": 6,
      "outputs": [
        {
          "output_type": "stream",
          "text": [
            "items per batch with leftovers: [[1, 2, 3, 4]]\n",
            "fill values: [[1, 2, 3], [4, 'arthur', 'arthur']]\n",
            "Other examples: [['a', 'b'], ['c', 'd']]\n"
          ],
          "name": "stdout"
        }
      ]
    },
    {
      "cell_type": "code",
      "metadata": {
        "id": "M9lJN5t8AMvs",
        "colab_type": "code",
        "outputId": "2bd35a71-fa4c-4b23-aa90-df8e976bf71e",
        "colab": {
          "base_uri": "https://localhost:8080/",
          "height": 68
        }
      },
      "source": [
        "# remove duplicate items in an item list or duplicate items list of list\n",
        "my_var = [1,2,3,4,4] #simple list\n",
        "result = cj.common.remove_duplicate_items(my_var)\n",
        "print(f\"simple list: {my_var} --> {result}\")\n",
        "\n",
        "my_var = [[1,2,3,4,4], [1,2,3,4,4]] #list of list\n",
        "result = cj.common.remove_duplicate_items(my_var)\n",
        "print(f\"list of list: {my_var} --> {result}\")\n",
        "\n",
        "my_var = [['hi'], ['hi'], ['ih']]\n",
        "result = cj.common.remove_duplicate_items(my_var)\n",
        "print(f\"other example: {my_var} --> {result}\")"
      ],
      "execution_count": 7,
      "outputs": [
        {
          "output_type": "stream",
          "text": [
            "simple list: [1, 2, 3, 4, 4] --> [1, 2, 3, 4]\n",
            "list of list: [[1, 2, 3, 4, 4], [1, 2, 3, 4, 4]] --> [[1, 2, 3, 4, 4]]\n",
            "other example: [['hi'], ['hi'], ['ih']] --> [['hi'], ['ih']]\n"
          ],
          "name": "stdout"
        }
      ]
    },
    {
      "cell_type": "markdown",
      "metadata": {
        "id": "SCpqGct6BCmn",
        "colab_type": "text"
      },
      "source": [
        "##Decorators"
      ]
    },
    {
      "cell_type": "code",
      "metadata": {
        "id": "8faV1ZV9BN1w",
        "colab_type": "code",
        "outputId": "6955b672-7423-41c0-9a58-665940f1c68e",
        "colab": {
          "base_uri": "https://localhost:8080/",
          "height": 51
        }
      },
      "source": [
        "# time_exec decorator used to signal or perform a particular function.\n",
        "@cj.decorators.time_exec\n",
        "def my_function(my_param): # Change-me\n",
        "    print(my_param)\n",
        "\n",
        "my_function(\"Hi Cereja\")"
      ],
      "execution_count": 8,
      "outputs": [
        {
          "output_type": "stream",
          "text": [
            "Hi Cereja\n",
            "[my_function] performed 0.0018551349639892578\n"
          ],
          "name": "stdout"
        }
      ]
    },
    {
      "cell_type": "markdown",
      "metadata": {
        "id": "XTqMg2BqCutt",
        "colab_type": "text"
      },
      "source": [
        "##Path"
      ]
    },
    {
      "cell_type": "code",
      "metadata": {
        "id": "qxpaAczOCxCn",
        "colab_type": "code",
        "outputId": "56d94eaa-90b4-4a04-da4b-c8c5d81858a4",
        "colab": {
          "base_uri": "https://localhost:8080/",
          "height": 85
        }
      },
      "source": [
        "\"\"\"\n",
        "group_path_from_dir function ...\n",
        "returns data tuples based on the number of items entered for each tuple,\n",
        "follows the default order if no sort function is sent\n",
        "\"\"\"\n",
        "\n",
        "my_dir = '/content/sample_data'\n",
        "my_ext_file = '.csv'\n",
        "\n",
        "cj.path.group_path_from_dir(dir_path=my_dir, num_items_on_tuple=2, ext_file=my_ext_file)"
      ],
      "execution_count": 9,
      "outputs": [
        {
          "output_type": "execute_result",
          "data": {
            "text/plain": [
              "[['/content/sample_data/california_housing_test.csv',\n",
              "  '/content/sample_data/california_housing_train.csv'],\n",
              " ['/content/sample_data/mnist_test.csv',\n",
              "  '/content/sample_data/mnist_train_small.csv']]"
            ]
          },
          "metadata": {
            "tags": []
          },
          "execution_count": 9
        }
      ]
    },
    {
      "cell_type": "code",
      "metadata": {
        "id": "qgiqJp8vEU-r",
        "colab_type": "code",
        "outputId": "ac99678d-8da4-4645-ec8d-d515ac42f3b0",
        "colab": {
          "base_uri": "https://localhost:8080/",
          "height": 51
        }
      },
      "source": [
        "my_file_path = '/content/sample_data/california_housing_test.csv'\n",
        "result = cj.path.file_name(file_path=my_file_path)\n",
        "print(f\"file_path: {my_file_path} --> {result}\")\n",
        "\n",
        "# or with ext\n",
        "result = cj.path.file_name(file_path=my_file_path, with_ext=True)\n",
        "print(f\"file_path: {my_file_path} --> {result}\")"
      ],
      "execution_count": 10,
      "outputs": [
        {
          "output_type": "stream",
          "text": [
            "file_path: /content/sample_data/california_housing_test.csv --> california_housing_test\n",
            "file_path: /content/sample_data/california_housing_test.csv --> california_housing_test.csv\n"
          ],
          "name": "stdout"
        }
      ]
    }
  ]
}